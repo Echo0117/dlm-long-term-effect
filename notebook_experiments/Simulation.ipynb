{
  "cells": [
    {
      "cell_type": "code",
      "execution_count": 1,
      "metadata": {
        "id": "C6uXRUIjpi5g"
      },
      "outputs": [],
      "source": [
        "from sklearn.metrics import mean_squared_error\n",
        "import pandas as pd\n",
        "from sklearn.linear_model import LinearRegression\n",
        "from sklearn.preprocessing import StandardScaler\n",
        "import emcee\n",
        "from scipy.stats import beta\n",
        "import matplotlib.pyplot as plt\n",
        "import numpy as np\n"
      ]
    },
    {
      "cell_type": "markdown",
      "metadata": {
        "id": "NXPpiAR5qrMK"
      },
      "source": [
        "## **Simulation procedure**"
      ]
    },
    {
      "cell_type": "code",
      "execution_count": null,
      "metadata": {
        "id": "ja7-eICmqqFv"
      },
      "outputs": [],
      "source": [
        "# Assume initial theta_0 is zero\n",
        "theta_0 = 0\n",
        "\n",
        "# Set G value\n",
        "G = 0.7\n",
        "\n",
        "# Define the DLM function according to the formula\n",
        "def dlm_model(X_t, Z_t, eta, zeta, G, T):\n",
        "    # Initial state\n",
        "    theta_t = np.zeros(T)\n",
        "    theta_t[0] = theta_0\n",
        "    predicted_Y = np.zeros(T)\n",
        "\n",
        "    # Iterate through each time step\n",
        "    for t in range(T):\n",
        "        if t > 0:\n",
        "            # State transition equation\n",
        "            theta_t[t] = G * theta_t[t-1] + np.dot(Z_t[t-1], zeta/2)\n",
        "\n",
        "        # Observation equation\n",
        "        predicted_Y[t] = theta_t[t] + np.dot(X_t[t], eta) + np.dot(Z_t[t], zeta/2)\n",
        "\n",
        "    return predicted_Y\n",
        "\n",
        "# Define the number of time steps\n",
        "T = len(Y_t)\n",
        "\n",
        "# Predict Y_t using the DLM model\n",
        "predicted_Y = dlm_model(X_t, Z_t, eta, zeta, G, T)\n",
        "\n",
        "# Convert the results to a DataFrame for visualization\n",
        "results_df = pd.DataFrame({\n",
        "    'Actual_Y': Y_t,\n",
        "    'Predicted_Y': predicted_Y\n",
        "})\n"
      ]
    },
    {
      "cell_type": "markdown",
      "metadata": {
        "id": "adF2zsfwq5xz"
      },
      "source": [
        "### **Possible normalization**"
      ]
    },
    {
      "cell_type": "code",
      "execution_count": null,
      "metadata": {
        "id": "cmkpje4mq8oA"
      },
      "outputs": [],
      "source": [
        "# Define the number of time steps\n",
        "T = len(Y_t_normalized)\n",
        "\n",
        "# Predict Y_t using the DLM model\n",
        "predicted_Y_normalized = dlm_model(X_t, Z_t, eta, zeta, G, T)\n",
        "\n",
        "# Transform the predicted values back to the original scale\n",
        "predicted_Y = scaler_Y.inverse_transform(predicted_Y_normalized.reshape(-1, 1)).flatten()\n",
        "Y_t = scaler_Y.inverse_transform(Y_t_normalized.reshape(-1, 1)).flatten()\n",
        "\n",
        "# Convert the results to a DataFrame for visualization\n",
        "results_df = pd.DataFrame({\n",
        "    'Actual_Y': Y_t.flatten(),\n",
        "    'Predicted_Y': predicted_Y\n",
        "})"
      ]
    }
  ],
  "metadata": {
    "colab": {
      "provenance": []
    },
    "kernelspec": {
      "display_name": "Python 3",
      "name": "python3"
    },
    "language_info": {
      "codemirror_mode": {
        "name": "ipython",
        "version": 3
      },
      "file_extension": ".py",
      "mimetype": "text/x-python",
      "name": "python",
      "nbconvert_exporter": "python",
      "pygments_lexer": "ipython3",
      "version": "3.10.9"
    }
  },
  "nbformat": 4,
  "nbformat_minor": 0
}
