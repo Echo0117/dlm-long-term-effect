{
  "nbformat": 4,
  "nbformat_minor": 0,
  "metadata": {
    "colab": {
      "provenance": []
    },
    "kernelspec": {
      "name": "python3",
      "display_name": "Python 3"
    },
    "language_info": {
      "name": "python"
    }
  },
  "cells": [
    {
      "cell_type": "code",
      "source": [
        "from sklearn.metrics import mean_squared_error\n",
        "import pandas as pd\n",
        "from sklearn.linear_model import LinearRegression\n",
        "from sklearn.preprocessing import StandardScaler\n",
        "import emcee\n",
        "from scipy.stats import beta\n",
        "import matplotlib.pyplot as plt\n",
        "import numpy as np\n"
      ],
      "metadata": {
        "id": "K71QM3wsp5x2"
      },
      "execution_count": null,
      "outputs": []
    },
    {
      "cell_type": "markdown",
      "source": [
        "### **Import and preprocess**"
      ],
      "metadata": {
        "id": "6CTqWArqqCM3"
      }
    },
    {
      "cell_type": "code",
      "execution_count": null,
      "metadata": {
        "id": "esb1-XS7psvt"
      },
      "outputs": [],
      "source": [
        "# Load the CSV file\n",
        "file_path = '/Users/echo/Downloads/df_germany.csv'  # Update this path to where your file is located\n",
        "df = pd.read_csv(file_path)\n",
        "df = df[df[\"brand\"]==\"absolut\"]\n",
        "\n",
        "# Define the dependent variable\n",
        "Y_t = df['volume_so_off'].values\n",
        "\n",
        "\n",
        "# df['brand'] = df['brand'].astype('category').cat.codes\n",
        "\n",
        "# Define the independent variables for X_t and Z_t\n",
        "# Adjust these columns based on actual needs\n",
        "X_t = df[['relative_gap_to_90th_price_off_off', 'off_trade_visibility_off', 'digital_off', 'digital_social_media_off',\"out_of_home_off\",\n",
        "          'television_off', 'brand_experience_off']].values\n",
        "Z_t = df[['distribution_off_off', 'discount_price_comp_to_pr_off_off']].values\n"
      ]
    },
    {
      "cell_type": "code",
      "source": [
        "# Normalize the data\n",
        "scaler_X = StandardScaler()\n",
        "scaler_Z = StandardScaler()\n",
        "\n",
        "X_t = scaler_X.fit_transform(X_t)\n",
        "Z_t = scaler_Z.fit_transform(Z_t)"
      ],
      "metadata": {
        "id": "ZlyYPr5Bp-sI"
      },
      "execution_count": null,
      "outputs": []
    },
    {
      "cell_type": "code",
      "source": [
        "# Normalize Y_t\n",
        "scaler_Y = StandardScaler()\n",
        "Y_t_normalized = scaler_Y.fit_transform(Y_t.reshape(-1, 1)).flatten()"
      ],
      "metadata": {
        "id": "aeOsLtXvqBX1"
      },
      "execution_count": null,
      "outputs": []
    }
  ]
}